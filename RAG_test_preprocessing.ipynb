{
 "cells": [
  {
   "cell_type": "code",
   "execution_count": 33,
   "id": "2b0f945d",
   "metadata": {},
   "outputs": [],
   "source": [
    "from llama_index.embeddings.huggingface import HuggingFaceEmbedding\n",
    "from llama_index.core import Settings, SimpleDirectoryReader, VectorStoreIndex\n",
    "from llama_index.core.retrievers import VectorIndexRetriever\n",
    "from llama_index.core.query_engine import RetrieverQueryEngine\n",
    "from llama_index.core.postprocessor import SimilarityPostprocessor\n",
    "import os\n",
    "import pandas as pd\n",
    "from groq import Groq\n",
    "from docx import Document\n",
    "from dotenv import load_dotenv\n"
   ]
  },
  {
   "cell_type": "code",
   "execution_count": 34,
   "id": "647b9d0c",
   "metadata": {},
   "outputs": [],
   "source": [
    "# Load .env file\n",
    "load_dotenv()\n",
    "\n",
    "# Initialize Groq client\n",
    "client = Groq(api_key=os.getenv(\"GROQ_API_KEY\"))"
   ]
  },
  {
   "cell_type": "markdown",
   "id": "e042bfd4",
   "metadata": {},
   "source": [
    "### Data preprocessing"
   ]
  },
  {
   "cell_type": "code",
   "execution_count": 23,
   "id": "aed0232c",
   "metadata": {},
   "outputs": [],
   "source": [
    "documents = SimpleDirectoryReader(r\"C:\\Users\\Bollu\\genai_rag\\portfolio_docs\").load_data()"
   ]
  },
  {
   "cell_type": "code",
   "execution_count": 80,
   "id": "e01f4e30",
   "metadata": {},
   "outputs": [],
   "source": [
    "# print(documents[0].text)"
   ]
  },
  {
   "cell_type": "code",
   "execution_count": 35,
   "id": "43116002",
   "metadata": {},
   "outputs": [],
   "source": [
    "text_ = documents[0].text\n",
    "\n",
    "prompt = f\"\"\"\n",
    "### Instructions:\n",
    "\n",
    "You are a data extraction and summarization assistant helping prepare data for a Retrieval-Augmented Generation (RAG) system.\n",
    "\n",
    "Your goal is to extract and structure information from a mutual fund portfolio statement and convert it into **detailed, uniformly-sized, textual summaries** (approximately 500 tokens each). Ignore any disclaimers or legal boilerplate.\n",
    "\n",
    "Follow these formatting and content rules carefully:\n",
    "\n",
    "---\n",
    "\n",
    "### For each mutual fund entry:\n",
    "- Begin with owner's name.\n",
    "- Title the fund.\n",
    "- Summarize the following in a detailed narrative form (same chunk size of ~500 tokens):\n",
    "  • Fund name and category (e.g., Equity, Liquid)\n",
    "  • Number of units held\n",
    "  • Purchase NAV and value\n",
    "  • Current NAV and value\n",
    "  • Absolute gain and % return\n",
    "  • CAGR and holding period in days\n",
    "  • Any special notes (e.g., underperformance or exceptionally high gain)\n",
    "\n",
    "### After summarizing all funds:\n",
    "Provide a **final portfolio summary** (same chunk size of ~500 tokens), including:\n",
    "  • Star with the owner's name.\n",
    "  • Total number of funds across categories\n",
    "  • Combined original and current investment value\n",
    "  • Total gain and percentage return\n",
    "  • Average CAGR\n",
    "  • Any important insights (e.g., high-performing funds, poor performers)\n",
    "\n",
    "### Additional Instructions:\n",
    "  • All fund summaries and portfolio summary must be approximately the same length (around 500 tokens or ~350–400 words).\n",
    "  • Do not include disclaimers or index values (e.g., Sensex or NIFTY).\n",
    "  • Output in plain text format, suitable for use with a vector database.\n",
    "   •Use all the synnonymns for the headings to ensure the user gets what is required.\n",
    "\n",
    "---\n",
    "\n",
    "### Document:\n",
    "{text_}\n",
    "\"\"\"\n",
    "\n"
   ]
  },
  {
   "cell_type": "code",
   "execution_count": 36,
   "id": "c5716b2a",
   "metadata": {},
   "outputs": [],
   "source": [
    "response = client.chat.completions.create(\n",
    "messages=[\n",
    "    {\n",
    "        \"role\": \"user\",\n",
    "        \"content\": prompt,\n",
    "    }\n",
    "],\n",
    "model=\"llama-3.3-70b-versatile\",\n",
    "temperature=0.2,\n",
    "max_completion_tokens=4096,\n",
    ")\n",
    "\n",
    "result = response.choices[0].message.content"
   ]
  },
  {
   "cell_type": "code",
   "execution_count": 7,
   "id": "7f0d20ce",
   "metadata": {},
   "outputs": [
    {
     "name": "stdout",
     "output_type": "stream",
     "text": [
      "### Mutual Fund Summaries for Durgaprasad Bollu\n",
      "\n",
      "#### HDFC Mid Cap Opportunities Fund (G)\n",
      "Durgaprasad Bollu holds an investment in the HDFC Mid Cap Opportunities Fund (G), which falls under the Equity category. As of the valuation date, the number of units held is 1,000.0000, with an average purchase NAV of 10.00, resulting in a total purchase value of 10,000.00. The current NAV stands at 186.5390, leading to a current value of 1,86,539.00. There has been no dividend gain, and the absolute return is 1,76,539.00, with a percentage return of 1,765.39%. The holding period is 6,535 days, and the CAGR is 17.75%. This fund has shown significant growth, indicating a successful investment choice.\n",
      "\n",
      "The performance of this fund is noteworthy, given its substantial absolute and percentage returns. The long holding period and considerable CAGR underscore the potential of this investment. It is essential to monitor the fund's future performance to ensure it continues to align with Durgaprasad Bollu's investment goals. The lack of dividend gain does not detract from the overall positive assessment of this investment, as the primary focus is on capital appreciation. Regular reviews will help in making informed decisions regarding this and other investments in the portfolio.\n",
      "\n",
      "The HDFC Mid Cap Opportunities Fund (G) is a key component of Durgaprasad Bollu's equity portfolio, demonstrating the importance of mid-cap investments in diversifying risk and potentially capturing higher growth. The significant difference between the purchase and current values highlights the fund's growth potential and the benefits of long-term investment strategies. As with any investment, it is crucial to consider the overall market conditions and the fund's performance relative to its peers and the broader market indices.\n",
      "\n",
      "#### Mirae Asset ELSS Tax Saver Fund Reg (G)\n",
      "Durgaprasad Bollu is invested in the Mirae Asset ELSS Tax Saver Fund Reg (G), categorized under Equity. The investment consists of 14,001.2930 units, purchased at an average NAV of 20.00, totaling 2,80,000.31 in purchase value. The current NAV is 47.5740, resulting in a current value of 6,66,097.51. With no dividend gain, the absolute return is 3,86,097.20, and the percentage return is 137.89%. The holding period is 1,713 days, with a CAGR of 17.75%. This fund has demonstrated substantial growth, contributing significantly to the portfolio's overall performance.\n",
      "\n",
      "The tax-saving aspect of this ELSS fund adds an additional layer of benefit, combining investment growth with tax advantages. The significant absolute and percentage returns underscore the fund's potential for long-term wealth creation. Regular monitoring of the fund's performance and adjustments as necessary will help ensure it continues to meet Durgaprasad Bollu's investment objectives. The CAGR of 17.75% is particularly noteworthy, indicating a strong performance over the holding period.\n",
      "\n",
      "The Mirae Asset ELSS Tax Saver Fund Reg (G) plays a crucial role in Durgaprasad Bollu's investment portfolio, not only due to its substantial value but also because of its tax benefits. The decision to invest in this fund reflects a strategic approach to managing tax liabilities while pursuing investment growth. As with any investment, considering the broader economic conditions and the impact of tax regulations on investment decisions is essential.\n",
      "\n",
      "#### Mirae Asset Small Cap Fund Reg (G) [77778566736]\n",
      "Durgaprasad Bollu has an investment in the Mirae Asset Small Cap Fund Reg (G), which is part of the Equity category. The investment comprises 2,699.8650 units, purchased at an average NAV of 10.00, resulting in a purchase value of 27,000.00. The current NAV is 10.6820, leading to a current value of 28,839.96. With no dividend gain, the absolute return is 1,839.96, and the percentage return is 6.81%. The holding period is 105 days, with a CAGR of 23.69%. Despite the short holding period, this fund has shown a positive return, indicating potential for future growth.\n",
      "\n",
      "The small-cap segment of the market is known for its volatility and potential for high growth. The Mirae Asset Small Cap Fund Reg (G) has started on a positive note, with both absolute and percentage returns being positive. However, the short holding period means that this investment requires close monitoring to ensure it aligns with Durgaprasad Bollu's risk tolerance and investment goals. The high CAGR is a promising sign, but it is essential to consider the overall market conditions and the fund's performance relative to its peers.\n",
      "\n",
      "The investment in the Mirae Asset Small Cap Fund Reg (G) reflects a willingness to take on higher risk in pursuit of potentially higher returns. This strategy can be beneficial in a diversified portfolio, as it spreads risk across different asset classes and market segments. Regular reviews of the fund's performance and the overall portfolio will help in making informed decisions about future investments and adjustments.\n",
      "\n",
      "#### Mirae Asset Small Cap Fund Reg (G) [77778467884]\n",
      "Durgaprasad Bollu is also invested in another instance of the Mirae Asset Small Cap Fund Reg (G), with 2,199.9050 units purchased at an average NAV of 9.82, totaling 21,599.99 in purchase value. The current NAV is 10.6820, resulting in a current value of 23,499.39. There has been no dividend gain, with an absolute return of 1,899.39 and a percentage return of 8.79%. The holding period is 45 days, and the CAGR is 71.33%. This investment has shown a significant positive return in a very short period, indicating high growth potential.\n",
      "\n",
      "The exceptional CAGR of 71.33% over a short holding period is noteworthy, suggesting that this fund could be a high-performing addition to the portfolio. However, the short duration of the investment means that ongoing monitoring is crucial to ensure that the fund continues to perform well and aligns with Durgaprasad Bollu's investment objectives. The small-cap segment's inherent volatility necessitates a cautious approach, balancing the potential for high returns with the risk of significant fluctuations.\n",
      "\n",
      "The decision to invest in this particular fund twice, albeit in different instances, underscores the confidence in the Mirae Asset Small Cap Fund Reg (G)'s potential for growth. This strategy allows for diversification within the small-cap segment, potentially capturing a broader range of growth opportunities. As with any investment, especially in volatile segments, regular portfolio rebalancing and performance monitoring are essential.\n",
      "\n",
      "#### Quant Small Cap Fund (G)\n",
      "Durgaprasad Bollu has an investment in the Quant Small Cap Fund (G), categorized under Equity, with 189.5310 units purchased at an average NAV of 263.81, resulting in a purchase value of 50,000.36. The current NAV is 249.4967, leading to a current value of 47,287.36. There has been no dividend gain, with an absolute return of -2,713.00 and a percentage return of -5.43%. The holding period is 266 days, and the CAGR is -7.44%. This investment has not performed well, showing a loss in value.\n",
      "\n",
      "The underperformance of the Quant Small Cap Fund (G) is a concern, given the negative absolute and percentage returns. The negative CAGR over the holding period indicates that this investment has not met expectations. It is essential to closely monitor this fund's performance and consider adjustments to the portfolio to minimize losses. The small-cap segment's volatility can sometimes result in investments not performing as expected, highlighting the need for a diversified investment strategy.\n",
      "\n",
      "The investment in the Quant Small Cap Fund (G) serves as a reminder of the risks associated with investing in the small-cap segment. Despite the potential for high growth, there is also the risk of significant losses. Durgaprasad Bollu's diversified portfolio helps mitigate this risk, but regular monitoring and potential rebalancing are necessary to ensure that the portfolio remains aligned with the investment objectives.\n",
      "\n",
      "#### ICICI Pru Multi Asset Fund (G)\n",
      "Durgaprasad Bollu is invested in the ICICI Pru Multi Asset Fund (G), which falls under the Hybrid category. The investment consists of 7.2370 units, purchased at an average NAV of 746.16, resulting in a purchase value of 5,399.96. The current NAV is 746.1232, leading to a current value of 5,399.69. There has been no dividend gain, with an absolute return of -0.27 and a percentage return of -0.00%. The holding period is 0 days, and the CAGR is 0.00%. This investment has shown minimal change in value.\n",
      "\n",
      "The minimal change in the ICICI Pru Multi Asset Fund (G)'s value reflects the stable nature of hybrid funds, which are designed to balance risk and return by investing in a mix of asset classes. The lack of significant growth is not surprising, given the conservative approach of hybrid funds. However, the minimal loss is a positive sign, indicating that the fund has managed to preserve capital despite market fluctuations.\n",
      "\n",
      "The investment in the ICICI Pru Multi Asset Fund (G) demonstrates a strategic approach to managing risk and return. By including hybrid funds in the portfolio, Durgaprasad Bollu has diversified the risk, potentially reducing the overall volatility of the portfolio. Regular monitoring of this fund, along with the rest of the portfolio, will help in making informed decisions about future investments and adjustments.\n",
      "\n",
      "### Final Portfolio Summary for Durgaprasad Bollu\n",
      "Durgaprasad Bollu's investment portfolio consists of multiple funds across different categories, including Equity and Hybrid. The total number of funds in the portfolio is not explicitly stated, but it includes investments in HDFC Mid Cap Opportunities Fund (G), Mirae Asset ELSS Tax Saver Fund Reg (G), Mirae Asset Small Cap Fund Reg (G) in two instances, Quant Small Cap Fund (G), and ICICI Pru Multi Asset Fund (G).\n",
      "\n",
      "The combined original investment value of these funds is 3,94,000.63, with a current investment value of 9,57,662.91. The total gain is 5,63,662.28, representing a percentage return of 143.06%. The average CAGR across the portfolio is 17.28%, indicating a strong overall performance.\n",
      "\n",
      "The portfolio's performance is a testament to the diversification strategy employed by Durgaprasad Bollu. The inclusion of funds from different categories and segments has helped in spreading risk and capturing growth opportunities across the market. The significant total gain and percentage return underscore the potential of a well-diversified investment portfolio.\n",
      "\n",
      "However, it is essential to note that the portfolio's performance is not without its challenges. The underperformance of the Quant Small Cap Fund (G) serves as a reminder of the risks associated with investing in volatile segments. The minimal change in the ICICI Pru Multi Asset Fund (G)'s value highlights the stable but potentially lower-return nature of hybrid funds.\n",
      "\n",
      "The high-performing funds, such as the HDFC Mid Cap Opportunities Fund (G) and the Mirae Asset ELSS Tax Saver Fund Reg (G), demonstrate the potential for significant growth in the equity segment. The Mirae Asset Small Cap Fund Reg (G), in both instances, has shown promising returns, despite the short holding period, indicating the potential for high growth in the small-cap segment.\n",
      "\n",
      "In conclusion, Durgaprasad Bollu's portfolio reflects a strategic approach to investing, with a focus on diversification and long-term growth. The significant total gain and average CAGR are positive indicators of the portfolio's performance. However, ongoing monitoring and potential adjustments will be necessary to ensure that the portfolio continues to align with the investment objectives and to mitigate risks. Regular reviews will help in making informed decisions about future investments, rebalancing the portfolio as necessary, and navigating the complexities of the investment market.\n"
     ]
    }
   ],
   "source": [
    "print(result)"
   ]
  },
  {
   "cell_type": "markdown",
   "id": "5e112a9d",
   "metadata": {},
   "source": [
    "#### combined code:"
   ]
  },
  {
   "cell_type": "code",
   "execution_count": 25,
   "id": "8baacf2c",
   "metadata": {},
   "outputs": [
    {
     "name": "stdout",
     "output_type": "stream",
     "text": [
      "Skipping durga prasad: Word document already exists.\n",
      "Skipping Hariprasad: Word document already exists.\n",
      "Skipping Lakshmi Devi: Word document already exists.\n",
      "Skipping nagalaxmi: Word document already exists.\n",
      "Skipping neelima (mirae): Word document already exists.\n",
      "Skipping neelima (mirae): Word document already exists.\n",
      "Skipping neelima (mirae): Word document already exists.\n",
      "Skipping neelima (mirae): Word document already exists.\n",
      "Skipping neelima (mirae): Word document already exists.\n",
      "Skipping Sireesha: Word document already exists.\n"
     ]
    }
   ],
   "source": [
    "# Paths\n",
    "input_folder = os.path.expanduser(r\"C:\\Users\\Bollu\\genai_rag\\portfolio_docs\")\n",
    "output_folder = os.path.expanduser(r\"C:\\Users\\Bollu\\genai_rag\\processed_docs\")\n",
    "\n",
    "# Load PDF documents\n",
    "documents = SimpleDirectoryReader(input_folder).load_data()\n",
    "\n",
    "# Process each document\n",
    "for doc in documents:\n",
    "    # Get the document name (assuming metadata exists or infer from filename)\n",
    "    filename = getattr(doc, \"metadata\", {}).get(\"file_name\", None)\n",
    "    if not filename:\n",
    "        # fallback to index-based name if metadata is missing\n",
    "        index = documents.index(doc)\n",
    "        filename = f\"document_{index + 1}.pdf\"\n",
    "\n",
    "    doc_name = os.path.splitext(filename)[0]\n",
    "    word_doc_path = os.path.join(output_folder, f\"{doc_name}.docx\")\n",
    "\n",
    "    # Skip if Word document already exists\n",
    "    if os.path.exists(word_doc_path):\n",
    "        print(f\"Skipping {doc_name}: Word document already exists.\")\n",
    "        continue\n",
    "\n",
    "    print(f\"Processing {doc_name}...\")\n",
    "\n",
    "    text_ = doc.text\n",
    "\n",
    "    prompt = f\"\"\"\n",
    "    ### Instructions:\n",
    "\n",
    "    You are a data extraction and summarization assistant helping prepare data for a Retrieval-Augmented Generation (RAG) system.\n",
    "\n",
    "    Your goal is to extract and structure information from a mutual fund portfolio statement and convert it into **detailed, uniformly-sized, textual summaries** (approximately 500 tokens each). Ignore any disclaimers or legal boilerplate.\n",
    "\n",
    "    Follow these formatting and content rules carefully:\n",
    "\n",
    "    ---\n",
    "\n",
    "    Do not use the word summary. Only use it for the final portfolio ummary.\n",
    "\n",
    "    ### For each mutual fund entry:\n",
    "    - Begin with owner's name.\n",
    "    - Title the fund.\n",
    "    - Summarize the following in a detailed narrative form (same chunk size of ~500 tokens):\n",
    "    • Fund name and category (e.g., Equity, Liquid)\n",
    "    • Number of units held\n",
    "    • Purchase NAV and value\n",
    "    • Current NAV and value\n",
    "    • Absolute gain and % return\n",
    "    • CAGR and holding period in days\n",
    "    • Any special notes (e.g., underperformance or exceptionally high gain)\n",
    "\n",
    "    ### After summarizing all funds:\n",
    "    Provide a **final portfolio summary** (same chunk size of ~500 tokens), including:\n",
    "    • Star with the owner's name.\n",
    "    • Total number of funds across categories\n",
    "    • Combined original and current investment value\n",
    "    • Total gain and percentage return\n",
    "    • Average CAGR\n",
    "    • Any important insights (e.g., high-performing funds, poor performers)\n",
    "\n",
    "    ### Additional Instructions:\n",
    "    • All fund summaries and portfolio summary must be approximately the same length (around 500 tokens or ~350–400 words).\n",
    "    • Do not include disclaimers or index values (e.g., Sensex or NIFTY).\n",
    "    • Output in plain text format, suitable for use with a vector database.\n",
    "    •Use all the synnonymns for the headings to ensure the user gets what is required.\n",
    "\n",
    "    ---\n",
    "\n",
    "    ### Document:\n",
    "    {text_}\"\"\"\n",
    "\n",
    "    try:\n",
    "        # LLM Call\n",
    "        response = client.chat.completions.create(\n",
    "            messages=[{\"role\": \"user\", \"content\": prompt}],\n",
    "            model=\"llama-3.3-70b-versatile\",  # or your model\n",
    "            temperature=0.2,\n",
    "            max_tokens=4096\n",
    "        )\n",
    "        #print(result,\"=================\")\n",
    "        result = response.choices[0].message.content.strip()\n",
    "    except Exception as e:\n",
    "        print(f\"Error processing {doc_name}: {e}\")\n",
    "        continue\n",
    "\n",
    "    # Write result to Word Document\n",
    "    docx_doc = Document()\n",
    "    docx_doc.add_heading(f\"Extracted Portfolio Data - {doc_name}\", level=1)\n",
    "    docx_doc.add_paragraph(result)\n",
    "    docx_doc.save(word_doc_path)\n",
    "\n",
    "    print(f\"Saved: {word_doc_path}\")"
   ]
  },
  {
   "cell_type": "markdown",
   "id": "da3ee9b5",
   "metadata": {},
   "source": [
    "### RAG"
   ]
  },
  {
   "cell_type": "code",
   "execution_count": 10,
   "id": "92c4ebfb",
   "metadata": {},
   "outputs": [
    {
     "name": "stdout",
     "output_type": "stream",
     "text": [
      "LLM is explicitly disabled. Using MockLLM.\n"
     ]
    }
   ],
   "source": [
    "Settings.embed_model = HuggingFaceEmbedding(model_name=\"BAAI/bge-small-en-v1.5\")\n",
    "\n",
    "Settings.llm = None\n",
    "Settings.chunk_size = 500\n",
    "Settings.chunk_overlap = 0"
   ]
  },
  {
   "cell_type": "code",
   "execution_count": 26,
   "id": "fe8107c4",
   "metadata": {},
   "outputs": [
    {
     "name": "stdout",
     "output_type": "stream",
     "text": [
      "Failed to load file C:\\Users\\Bollu\\genai_rag\\processed_docs\\~$rga prasad.docx with error: File is not a zip file. Skipping...\n"
     ]
    }
   ],
   "source": [
    "documents = SimpleDirectoryReader(r\"C:\\Users\\Bollu\\genai_rag\\processed_docs\").load_data()"
   ]
  },
  {
   "cell_type": "code",
   "execution_count": 27,
   "id": "b2c3865d",
   "metadata": {},
   "outputs": [],
   "source": [
    "index = VectorStoreIndex.from_documents(documents)"
   ]
  },
  {
   "cell_type": "code",
   "execution_count": 28,
   "id": "cbae392e",
   "metadata": {},
   "outputs": [],
   "source": [
    "# set number of docs to retreive\n",
    "top_k = 1\n",
    "\n",
    "# configure retriever\n",
    "retriever = VectorIndexRetriever(\n",
    "    index=index,\n",
    "    similarity_top_k=top_k,\n",
    ")"
   ]
  },
  {
   "cell_type": "code",
   "execution_count": 29,
   "id": "b6fb22dc",
   "metadata": {},
   "outputs": [],
   "source": [
    "query_engine = RetrieverQueryEngine(\n",
    "    retriever=retriever,\n",
    "    node_postprocessors=[SimilarityPostprocessor(similarity_cutoff=0.5)],\n",
    ")"
   ]
  },
  {
   "cell_type": "code",
   "execution_count": 30,
   "id": "28a36e05",
   "metadata": {},
   "outputs": [
    {
     "name": "stdout",
     "output_type": "stream",
     "text": [
      "The average purchase NAV is 58.64, and the total purchase value is 1,12,500.24. As of the current date, the NAV is 83.5423, and the current value is 1,60,268.30. The absolute gain is 47,768.06, and the percentage return is 42.46. The holding period is 676 days, with a CAGR of 19.69. This fund has performed exceptionally well, with significant gains over a relatively short period.\n",
      "\n",
      "BOLLU SIREESHA\n",
      "Quant Small Cap Fund (G) Overview\n",
      "The Quant Small Cap Fund (G) is an equity mutual fund with 137.2600 units held. The average purchase NAV is 254.99, and the total purchase value is 35,000.34. As of the current date, the NAV is 251.5130, and the current value is 34,522.67. The absolute gain is -477.66, and the percentage return is -1.36. The holding period is 208 days, with a CAGR of -2.40. This fund has underperformed, with losses over a short period.\n",
      "\n",
      "BOLLU SIREESHA\n",
      "Final Portfolio Summary\n",
      "The portfolio consists of 13 equity mutual funds, with a total purchase value of 9,82,501.73 and a current value of 12,44,803.65. The total gain is 2,62,301.91, and the percentage return is 26.70. The average CAGR is 17.27, and the average holding period is 497 days. The top-performing funds are Axis Small Cap Fund Reg (G), Kotak Emerging Equity (G), and Parag Parikh Flexi Cap Fund Reg (G), with significant gains over a relatively short period. The underperforming funds are Edelweiss Business Cycle Fund Reg (G), Nippon India Small Cap Fund (G), and Quant Small Cap Fund (G), which have shown minimal gains or losses over a short period. It is essential to closely monitor the performance of these funds and adjust the portfolio accordingly to ensure it aligns with the investment objectives.\n"
     ]
    }
   ],
   "source": [
    "post = \"Final Portfolio Summary of Bollu Sireesha\"\n",
    "response = query_engine.query(post)\n",
    "print(response.source_nodes[0].text)"
   ]
  },
  {
   "cell_type": "markdown",
   "id": "2520d51b",
   "metadata": {},
   "source": [
    "#### Function"
   ]
  },
  {
   "cell_type": "code",
   "execution_count": 31,
   "id": "2d768bf7",
   "metadata": {},
   "outputs": [],
   "source": [
    "def get_retrieved_context(user_query):\n",
    "    response = query_engine.query(user_query)\n",
    "    return response.source_nodes[0].text"
   ]
  },
  {
   "cell_type": "code",
   "execution_count": 32,
   "id": "9066ab51",
   "metadata": {},
   "outputs": [
    {
     "name": "stdout",
     "output_type": "stream",
     "text": [
      "User: Summarize overall portfolio valuation of DUrga Prasad Bollu \n",
      "\n",
      "Retrieved Context: The first investment consists of 2,699.8650 units, with an average purchase NAV of 10.00, resulting in a purchase value of 27,000.00. The current NAV is 10.6820, leading to a current value of 28,839.96. The dividend gain is 0.00, and the absolute return is 1,839.96, with a percentage return of 6.81%. The holding period for this investment is 105 days, and the CAGR is 23.69%. The second investment comprises 2,199.9050 units, with an average purchase NAV of 9.82, resulting in a purchase value of 21,599.99. The current NAV is 10.6820, leading to a current value of 23,499.39. The dividend gain is 0.00, and the absolute return is 1,899.39, with a percentage return of 8.79%. The holding period for this investment is 45 days, and the CAGR is 71.33%. These investments demonstrate the potential for growth in small-cap funds, despite the relatively short holding periods.\n",
      "\n",
      "Durgaprasad Bollu \n",
      "Quant Small Cap Fund \n",
      "Durgaprasad Bollu has invested in the Quant Small Cap Fund, which falls under the Equity category. The investment consists of 189.5310 units, with an average purchase NAV of 263.81, resulting in a purchase value of 50,000.36. The current NAV is 249.4967, leading to a current value of 47,287.36. The dividend gain is 0.00, and the absolute return is -2,713.00, with a percentage return of -5.43%. The holding period for this investment is 266 days, and the CAGR is -7.44%. This fund has underperformed, with a negative absolute gain and percentage return, indicating a need for review and potential rebalancing of the portfolio. \n",
      "\n",
      "Chatbot: Based on the provided information, Durgaprasad Bollu's portfolio consists of three investments. Here's a summary of the overall portfolio valuation:\n",
      "\n",
      "1. First investment:\n",
      "   - Purchase value: 27,000.00\n",
      "   - Current value: 28,839.96\n",
      "   - Absolute return: 1,839.96\n",
      "   - Percentage return: 6.81%\n",
      "\n",
      "2. Second investment:\n",
      "   - Purchase value: 21,599.99\n",
      "   - Current value: 23,499.39\n",
      "   - Absolute return: 1,899.39\n",
      "   - Percentage return: 8.79%\n",
      "\n",
      "3. Quant Small Cap Fund:\n",
      "   - Purchase value: 50,000.36\n",
      "   - Current value: 47,287.36\n",
      "   - Absolute return: -2,713.00\n",
      "   - Percentage return: -5.43%\n",
      "\n",
      "To calculate the overall portfolio valuation, we need to sum up the purchase values and the current values:\n",
      "\n",
      "Total purchase value: 27,000.00 + 21,599.99 + 50,000.36 = 98,600.35\n",
      "Total current value: 28,839.96 + 23,499.39 + 47,287.36 = 99,626.71\n",
      "\n",
      "The overall absolute return is: 99,626.71 - 98,600.35 = 1,026.36\n",
      "The overall percentage return is: (1,026.36 / 98,600.35) * 100% ≈ 1.04%\n",
      "\n",
      "Please note that the CAGR (Compound Annual Growth Rate) for each investment is provided, but it's not possible to calculate the overall CAGR for the portfolio without knowing the exact dates of the investments. However, the overall portfolio valuation shows a slight increase in value, with a positive absolute return and a small percentage return.\n"
     ]
    }
   ],
   "source": [
    "user_input = input(\"You: \")\n",
    "# if user_input.lower() in ['exit', 'quit']:\n",
    "#     print(\"Chatbot: Goodbye!\")\n",
    "\n",
    "print(\"User:\", user_input, \"\\n\")\n",
    "\n",
    "retrieved_text = get_retrieved_context(user_input)\n",
    "print(\"Retrieved Context:\", retrieved_text, \"\\n\")\n",
    "\n",
    "system_prompt = f\"\"\"\n",
    "You are a helpful assistant. Use the following context to answer the user's question:\n",
    "\n",
    "--- Start of context ---\n",
    "{retrieved_text}\n",
    "--- End of context ---\n",
    "\n",
    "Now answer the following question accurately and helpfully:\n",
    "{user_input}\n",
    "\"\"\"\n",
    "\n",
    "messages = [\n",
    "    {\n",
    "        \"role\": \"system\", \n",
    "        \"content\": system_prompt\n",
    "    }]\n",
    "\n",
    "response = client.chat.completions.create(\n",
    "                messages=messages,\n",
    "                model=\"llama-3.3-70b-versatile\",  # Groq’s model name\n",
    "                temperature=0.2,\n",
    "                max_tokens=4096\n",
    "            )\n",
    "\n",
    "reply = response.choices[0].message.content\n",
    "print(f\"Chatbot: {reply}\")"
   ]
  },
  {
   "cell_type": "code",
   "execution_count": null,
   "id": "4ca591a2",
   "metadata": {},
   "outputs": [
    {
     "name": "stdout",
     "output_type": "stream",
     "text": [
      "Object `fund` not found.\n"
     ]
    }
   ],
   "source": [
    "Hello my name is Sireesha, what is my value in HDFC Multi Cap Fund Reg fund?"
   ]
  }
 ],
 "metadata": {
  "kernelspec": {
   "display_name": "genai",
   "language": "python",
   "name": "python3"
  },
  "language_info": {
   "codemirror_mode": {
    "name": "ipython",
    "version": 3
   },
   "file_extension": ".py",
   "mimetype": "text/x-python",
   "name": "python",
   "nbconvert_exporter": "python",
   "pygments_lexer": "ipython3",
   "version": "3.13.5"
  }
 },
 "nbformat": 4,
 "nbformat_minor": 5
}
