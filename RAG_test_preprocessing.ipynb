{
 "cells": [
  {
   "cell_type": "code",
   "execution_count": 1,
   "id": "2b0f945d",
   "metadata": {},
   "outputs": [],
   "source": [
    "from llama_index.embeddings.huggingface import HuggingFaceEmbedding\n",
    "from llama_index.core import Settings, SimpleDirectoryReader, VectorStoreIndex\n",
    "from llama_index.core.retrievers import VectorIndexRetriever\n",
    "from llama_index.core.query_engine import RetrieverQueryEngine\n",
    "from llama_index.core.postprocessor import SimilarityPostprocessor\n",
    "import os\n",
    "import pandas as pd\n",
    "from groq import Groq\n",
    "from docx import Document\n",
    "from dotenv import load_dotenv\n"
   ]
  },
  {
   "cell_type": "code",
   "execution_count": 2,
   "id": "647b9d0c",
   "metadata": {},
   "outputs": [],
   "source": [
    "# Load .env file\n",
    "load_dotenv()\n",
    "\n",
    "# Initialize Groq client\n",
    "client = Groq(api_key=os.getenv(\"GROQ_API_KEY\"))"
   ]
  },
  {
   "cell_type": "markdown",
   "id": "e042bfd4",
   "metadata": {},
   "source": [
    "### Data preprocessing"
   ]
  },
  {
   "cell_type": "code",
   "execution_count": 3,
   "id": "aed0232c",
   "metadata": {},
   "outputs": [],
   "source": [
    "documents = SimpleDirectoryReader(r\"C:\\Users\\Bollu\\genai_rag\\portifolio_docs\").load_data()"
   ]
  },
  {
   "cell_type": "code",
   "execution_count": 80,
   "id": "e01f4e30",
   "metadata": {},
   "outputs": [],
   "source": [
    "# print(documents[0].text)"
   ]
  },
  {
   "cell_type": "code",
   "execution_count": 6,
   "id": "43116002",
   "metadata": {},
   "outputs": [],
   "source": [
    "text_ = documents[0].text\n",
    "\n",
    "prompt = f\"\"\"\n",
    "### Instructions:\n",
    "\n",
    "You are a data extraction and summarization assistant helping prepare data for a Retrieval-Augmented Generation (RAG) system.\n",
    "\n",
    "Your goal is to extract and structure information from a mutual fund portfolio statement and convert it into **detailed, uniformly-sized, textual summaries** (approximately 500 tokens each). Ignore any disclaimers or legal boilerplate.\n",
    "\n",
    "Follow these formatting and content rules carefully:\n",
    "\n",
    "---\n",
    "\n",
    "### For each mutual fund entry:\n",
    "- Begin with owner's name.\n",
    "- Title the fund.\n",
    "- Summarize the following in a detailed narrative form (same chunk size of ~500 tokens):\n",
    "  • Fund name and category (e.g., Equity, Liquid)\n",
    "  • Number of units held\n",
    "  • Purchase NAV and value\n",
    "  • Current NAV and value\n",
    "  • Absolute gain and % return\n",
    "  • CAGR and holding period in days\n",
    "  • Any special notes (e.g., underperformance or exceptionally high gain)\n",
    "\n",
    "### After summarizing all funds:\n",
    "Provide a **final portfolio summary** (same chunk size of ~500 tokens), including:\n",
    "  • Star with the owner's name.\n",
    "  • Total number of funds across categories\n",
    "  • Combined original and current investment value\n",
    "  • Total gain and percentage return\n",
    "  • Average CAGR\n",
    "  • Any important insights (e.g., high-performing funds, poor performers)\n",
    "\n",
    "### Additional Instructions:\n",
    "  • All fund summaries and portfolio summary must be approximately the same length (around 500 tokens or ~350–400 words).\n",
    "  • Do not include disclaimers or index values (e.g., Sensex or NIFTY).\n",
    "  • Output in plain text format, suitable for use with a vector database.\n",
    "   •Use all the synnonymns for the headings to ensure the user gets what is required.\n",
    "\n",
    "---\n",
    "\n",
    "### Document:\n",
    "{text_}\n",
    "\"\"\"\n",
    "\n"
   ]
  },
  {
   "cell_type": "code",
   "execution_count": 7,
   "id": "c5716b2a",
   "metadata": {},
   "outputs": [],
   "source": [
    "response = client.chat.completions.create(\n",
    "messages=[\n",
    "    {\n",
    "        \"role\": \"user\",\n",
    "        \"content\": prompt,\n",
    "    }\n",
    "],\n",
    "model=\"llama-3.3-70b-versatile\",\n",
    "temperature=0.2,\n",
    "max_completion_tokens=4096,\n",
    ")\n",
    "\n",
    "result = response.choices[0].message.content"
   ]
  },
  {
   "cell_type": "code",
   "execution_count": 6,
   "id": "7f0d20ce",
   "metadata": {},
   "outputs": [
    {
     "name": "stdout",
     "output_type": "stream",
     "text": [
      "### Mutual Fund Summaries for Durgaprasad Bollu\n",
      "\n",
      "#### HDFC Mid Cap Opportunities Fund (G)\n",
      "Durgaprasad Bollu holds an investment in the HDFC Mid Cap Opportunities Fund (G), which falls under the Equity category. As of the valuation date, the number of units held is 1,000.0000, with an average purchase NAV of 10.00, resulting in a total purchase value of 10,000.00. The current NAV stands at 186.5390, leading to a current value of 1,86,539.00. This investment has yielded an absolute gain of 1,76,539.00 and a percentage return of 1,765.39%. The holding period is approximately 6,535 days, with a CAGR of 17.75%. This fund has performed exceptionally well, indicating a strong growth trajectory over the holding period.\n",
      "\n",
      "#### Mirae Asset ELSS Tax Saver Fund Reg (G)\n",
      "Durgaprasad Bollu is also invested in the Mirae Asset ELSS Tax Saver Fund Reg (G), categorized under Equity. The investment comprises 14,001.2930 units, purchased at an average NAV of 20.00, amounting to a purchase value of 2,80,000.31. The current NAV is 47.5740, resulting in a current value of 6,66,097.51. This investment has generated an absolute gain of 3,86,097.20 and a percentage return of 137.89%. With a holding period of 1,713 days, the CAGR is 17.75%. This fund has shown significant growth, highlighting its potential as a tax-saving investment option.\n",
      "\n",
      "#### Mirae Asset Small Cap Fund Reg (G) [77778566736]\n",
      "Another investment in the Equity category is the Mirae Asset Small Cap Fund Reg (G) [77778566736], with 2,699.8650 units held. The average purchase NAV was 10.00, leading to a purchase value of 27,000.00. The current NAV is 10.6820, resulting in a current value of 28,839.96. This investment has yielded an absolute gain of 1,839.96 and a percentage return of 6.81%. The holding period is approximately 105 days, with a CAGR of 23.69%. Despite the short holding period, this fund has shown promising returns, indicating potential for future growth.\n",
      "\n",
      "#### Mirae Asset Small Cap Fund Reg (G) [77778467884]\n",
      "Durgaprasad Bollu also holds an investment in the Mirae Asset Small Cap Fund Reg (G) [77778467884], with 2,199.9050 units. The average purchase NAV was 9.82, resulting in a purchase value of 21,599.99. The current NAV stands at 10.6820, leading to a current value of 23,499.39. This investment has generated an absolute gain of 1,899.39 and a percentage return of 8.79%. With a holding period of 45 days, the CAGR is 71.33%. This fund has demonstrated exceptionally high returns over a very short period, suggesting it could be a high-performing addition to the portfolio.\n",
      "\n",
      "#### Quant Small Cap Fund (G)\n",
      "The Quant Small Cap Fund (G) is another Equity investment, with 189.5310 units held. The average purchase NAV was 263.81, amounting to a purchase value of 50,000.36. The current NAV is 249.4967, resulting in a current value of 47,287.36. This investment has yielded an absolute gain of -2,713.00 and a percentage return of -5.43%. The holding period is approximately 266 days, with a CAGR of -7.44%. This fund has underperformed, indicating a need for review or potential rebalancing of the portfolio.\n",
      "\n",
      "#### ICICI Pru Multi Asset Fund (G)\n",
      "In the Hybrid category, Durgaprasad Bollu is invested in the ICICI Pru Multi Asset Fund (G), with 7.2370 units held. The average purchase NAV was 746.16, resulting in a purchase value of 5,399.96. The current NAV stands at 746.1232, leading to a current value of 5,399.69. This investment has generated an absolute gain of -0.27 and a percentage return of -0.00%. With a holding period of 0 days, the CAGR is 0.00%. This fund has shown minimal movement, suggesting it may not be contributing significantly to the portfolio's overall performance.\n",
      "\n",
      "### Final Portfolio Summary for Durgaprasad Bollu\n",
      "Durgaprasad Bollu's portfolio consists of a total of 6 funds across the Equity and Hybrid categories. The original investment value totals 3,94,000.63, while the current investment value stands at 9,57,662.91. The portfolio has yielded a total gain of 5,63,662.28, representing a percentage return of 143.06%. The average CAGR across the portfolio is 17.28%, indicating a strong overall performance. Notably, the Mirae Asset ELSS Tax Saver Fund Reg (G) and the HDFC Mid Cap Opportunities Fund (G) have been high performers, contributing significantly to the portfolio's growth. In contrast, the Quant Small Cap Fund (G) has underperformed, suggesting a need for review. Overall, the portfolio demonstrates a balanced mix of equity and hybrid funds, with a focus on long-term growth and tax savings. Regular monitoring and potential rebalancing will be essential to maintain optimal performance and align the portfolio with Durgaprasad Bollu's investment goals and risk tolerance.\n"
     ]
    }
   ],
   "source": [
    "print(result)"
   ]
  },
  {
   "cell_type": "markdown",
   "id": "5e112a9d",
   "metadata": {},
   "source": [
    "#### combined code:"
   ]
  },
  {
   "cell_type": "code",
   "execution_count": 8,
   "id": "8baacf2c",
   "metadata": {},
   "outputs": [
    {
     "name": "stdout",
     "output_type": "stream",
     "text": [
      "Skipping durga prasad: Word document already exists.\n",
      "Skipping Hariprasad: Word document already exists.\n",
      "Skipping Lakshmi Devi: Word document already exists.\n",
      "Skipping nagalaxmi: Word document already exists.\n",
      "Skipping neelima (mirae): Word document already exists.\n",
      "Skipping neelima (mirae): Word document already exists.\n",
      "Skipping neelima (mirae): Word document already exists.\n",
      "Skipping neelima (mirae): Word document already exists.\n",
      "Skipping neelima (mirae): Word document already exists.\n",
      "Skipping Sireesha: Word document already exists.\n"
     ]
    }
   ],
   "source": [
    "# Paths\n",
    "input_folder = os.path.expanduser(r\"C:\\Users\\Bollu\\genai_rag\\portifolio_docs\")\n",
    "output_folder = os.path.expanduser(r\"C:\\Users\\Bollu\\genai_rag\\processed_docs\")\n",
    "\n",
    "# Load PDF documents\n",
    "documents = SimpleDirectoryReader(input_folder).load_data()\n",
    "\n",
    "# Process each document\n",
    "for doc in documents:\n",
    "    # Get the document name (assuming metadata exists or infer from filename)\n",
    "    filename = getattr(doc, \"metadata\", {}).get(\"file_name\", None)\n",
    "    if not filename:\n",
    "        # fallback to index-based name if metadata is missing\n",
    "        index = documents.index(doc)\n",
    "        filename = f\"document_{index + 1}.pdf\"\n",
    "\n",
    "    doc_name = os.path.splitext(filename)[0]\n",
    "    word_doc_path = os.path.join(output_folder, f\"{doc_name}.docx\")\n",
    "\n",
    "    # Skip if Word document already exists\n",
    "    if os.path.exists(word_doc_path):\n",
    "        print(f\"Skipping {doc_name}: Word document already exists.\")\n",
    "        continue\n",
    "\n",
    "    print(f\"Processing {doc_name}...\")\n",
    "\n",
    "    text_ = doc.text\n",
    "\n",
    "    prompt = f\"\"\"\n",
    "    ### Instructions:\n",
    "\n",
    "    You are a data extraction and summarization assistant helping prepare data for a Retrieval-Augmented Generation (RAG) system.\n",
    "\n",
    "    Your goal is to extract and structure information from a mutual fund portfolio statement and convert it into **detailed, uniformly-sized, textual summaries** (approximately 500 tokens each). Ignore any disclaimers or legal boilerplate.\n",
    "\n",
    "    Follow these formatting and content rules carefully:\n",
    "\n",
    "    ---\n",
    "\n",
    "    Do not use the word summary. Only use it for the final portfolio ummary.\n",
    "\n",
    "    ### For each mutual fund entry:\n",
    "    - Begin with owner's name.\n",
    "    - Title the fund.\n",
    "    - Summarize the following in a detailed narrative form (same chunk size of ~500 tokens):\n",
    "    • Fund name and category (e.g., Equity, Liquid)\n",
    "    • Number of units held\n",
    "    • Purchase NAV and value\n",
    "    • Current NAV and value\n",
    "    • Absolute gain and % return\n",
    "    • CAGR and holding period in days\n",
    "    • Any special notes (e.g., underperformance or exceptionally high gain)\n",
    "\n",
    "    ### After summarizing all funds:\n",
    "    Provide a **final portfolio summary** (same chunk size of ~500 tokens), including:\n",
    "    • Star with the owner's name.\n",
    "    • Total number of funds across categories\n",
    "    • Combined original and current investment value\n",
    "    • Total gain and percentage return\n",
    "    • Average CAGR\n",
    "    • Any important insights (e.g., high-performing funds, poor performers)\n",
    "\n",
    "    ### Additional Instructions:\n",
    "    • All fund summaries and portfolio summary must be approximately the same length (around 500 tokens or ~350–400 words).\n",
    "    • Do not include disclaimers or index values (e.g., Sensex or NIFTY).\n",
    "    • Output in plain text format, suitable for use with a vector database.\n",
    "    •Use all the synnonymns for the headings to ensure the user gets what is required.\n",
    "\n",
    "    ---\n",
    "\n",
    "    ### Document:\n",
    "    {text_}\"\"\"\n",
    "\n",
    "    try:\n",
    "        # LLM Call\n",
    "        response = client.chat.completions.create(\n",
    "            messages=[{\"role\": \"user\", \"content\": prompt}],\n",
    "            model=\"llama-3.3-70b-versatile\",  # or your model\n",
    "            temperature=0.2,\n",
    "            max_tokens=4096\n",
    "        )\n",
    "        #print(result,\"=================\")\n",
    "        result = response.choices[0].message.content.strip()\n",
    "    except Exception as e:\n",
    "        print(f\"Error processing {doc_name}: {e}\")\n",
    "        continue\n",
    "\n",
    "    # Write result to Word Document\n",
    "    docx_doc = Document()\n",
    "    docx_doc.add_heading(f\"Extracted Portfolio Data - {doc_name}\", level=1)\n",
    "    docx_doc.add_paragraph(result)\n",
    "    docx_doc.save(word_doc_path)\n",
    "\n",
    "    print(f\"Saved: {word_doc_path}\")"
   ]
  },
  {
   "cell_type": "markdown",
   "id": "da3ee9b5",
   "metadata": {},
   "source": [
    "### RAG"
   ]
  },
  {
   "cell_type": "code",
   "execution_count": 9,
   "id": "92c4ebfb",
   "metadata": {},
   "outputs": [
    {
     "name": "stdout",
     "output_type": "stream",
     "text": [
      "LLM is explicitly disabled. Using MockLLM.\n"
     ]
    }
   ],
   "source": [
    "Settings.embed_model = HuggingFaceEmbedding(model_name=\"BAAI/bge-small-en-v1.5\")\n",
    "\n",
    "Settings.llm = None\n",
    "Settings.chunk_size = 500\n",
    "Settings.chunk_overlap = 0"
   ]
  },
  {
   "cell_type": "code",
   "execution_count": 10,
   "id": "fe8107c4",
   "metadata": {},
   "outputs": [],
   "source": [
    "documents = SimpleDirectoryReader(r\"C:\\Users\\Bollu\\genai_rag\\processed_docs\").load_data()"
   ]
  },
  {
   "cell_type": "code",
   "execution_count": 11,
   "id": "b2c3865d",
   "metadata": {},
   "outputs": [],
   "source": [
    "index = VectorStoreIndex.from_documents(documents)"
   ]
  },
  {
   "cell_type": "code",
   "execution_count": 12,
   "id": "cbae392e",
   "metadata": {},
   "outputs": [],
   "source": [
    "# set number of docs to retreive\n",
    "top_k = 1\n",
    "\n",
    "# configure retriever\n",
    "retriever = VectorIndexRetriever(\n",
    "    index=index,\n",
    "    similarity_top_k=top_k,\n",
    ")"
   ]
  },
  {
   "cell_type": "code",
   "execution_count": 13,
   "id": "b6fb22dc",
   "metadata": {},
   "outputs": [],
   "source": [
    "query_engine = RetrieverQueryEngine(\n",
    "    retriever=retriever,\n",
    "    node_postprocessors=[SimilarityPostprocessor(similarity_cutoff=0.5)],\n",
    ")"
   ]
  },
  {
   "cell_type": "code",
   "execution_count": 14,
   "id": "28a36e05",
   "metadata": {},
   "outputs": [
    {
     "name": "stdout",
     "output_type": "stream",
     "text": [
      "BOLLU SIREESHA\n",
      "Final Portfolio Overview\n",
      "The portfolio consists of 13 equity mutual funds, with a total investment value of 9,82,501.73 and a current value of 12,44,803.65. The total gain is 2,62,301.91, and the percentage return is 26.70. The average CAGR is 17.27, and the average holding period is 497 days. The portfolio has performed well, with several funds showing significant gains in value over their respective holding periods. The top-performing funds are the Axis Small Cap Fund Reg (G), Kotak Emerging Equity (G), and Parag Parikh Flexi Cap Fund Reg (G), which have returns of 41.36, 47.72, and 42.46, respectively. The underperforming funds are the Edelweiss Business Cycle Fund Reg (G), Nippon India Small Cap Fund (G), and Quant Small Cap Fund (G), which have returns of 0.25, 2.62, and -1.36, respectively. Overall, the portfolio has shown a significant gain in value over the holding period, with an average CAGR of 17.27. The portfolio's performance is a positive indicator of its growth potential, and it is essential to continue monitoring the funds' performance to ensure the portfolio remains aligned with the investor's goals.\n"
     ]
    }
   ],
   "source": [
    "post = \"Final Portfolio Summary of Bollu Sireesha\"\n",
    "response = query_engine.query(post)\n",
    "print(response.source_nodes[0].text)"
   ]
  },
  {
   "cell_type": "markdown",
   "id": "2520d51b",
   "metadata": {},
   "source": [
    "#### Function"
   ]
  },
  {
   "cell_type": "code",
   "execution_count": 15,
   "id": "2d768bf7",
   "metadata": {},
   "outputs": [],
   "source": [
    "def get_retrieved_context(user_query):\n",
    "    response = query_engine.query(user_query)\n",
    "    return response.source_nodes[0].text"
   ]
  },
  {
   "cell_type": "code",
   "execution_count": 16,
   "id": "9066ab51",
   "metadata": {},
   "outputs": [
    {
     "name": "stdout",
     "output_type": "stream",
     "text": [
      "User: Summarize overall valuation of Sireesha Bollu \n",
      "\n",
      "Retrieved Context: BOLLU SIREESHA\n",
      "Final Portfolio Overview\n",
      "The portfolio consists of 13 equity mutual funds, with a total investment value of 9,82,501.73 and a current value of 12,44,803.65. The total gain is 2,62,301.91, and the percentage return is 26.70. The average CAGR is 17.27, and the average holding period is 497 days. The portfolio has performed well, with several funds showing significant gains in value over their respective holding periods. The top-performing funds are the Axis Small Cap Fund Reg (G), Kotak Emerging Equity (G), and Parag Parikh Flexi Cap Fund Reg (G), which have returns of 41.36, 47.72, and 42.46, respectively. The underperforming funds are the Edelweiss Business Cycle Fund Reg (G), Nippon India Small Cap Fund (G), and Quant Small Cap Fund (G), which have returns of 0.25, 2.62, and -1.36, respectively. Overall, the portfolio has shown a significant gain in value over the holding period, with an average CAGR of 17.27. The portfolio's performance is a positive indicator of its growth potential, and it is essential to continue monitoring the funds' performance to ensure the portfolio remains aligned with the investor's goals. \n",
      "\n",
      "Chatbot: The overall valuation of Sireesha Bollu's portfolio is as follows:\n",
      "\n",
      "* Total investment value: 9,82,501.73\n",
      "* Current value: 12,44,803.65\n",
      "* Total gain: 2,62,301.91\n",
      "* Percentage return: 26.70%\n",
      "* Average CAGR: 17.27%\n",
      "\n",
      "This indicates that Sireesha Bollu's portfolio has performed well, with a significant gain in value over the holding period of 497 days, and an average annual growth rate of 17.27%.\n"
     ]
    }
   ],
   "source": [
    "user_input = input(\"You: \")\n",
    "# if user_input.lower() in ['exit', 'quit']:\n",
    "#     print(\"Chatbot: Goodbye!\")\n",
    "\n",
    "print(\"User:\", user_input, \"\\n\")\n",
    "\n",
    "retrieved_text = get_retrieved_context(user_input)\n",
    "print(\"Retrieved Context:\", retrieved_text, \"\\n\")\n",
    "\n",
    "system_prompt = f\"\"\"\n",
    "You are a helpful assistant. Use the following context to answer the user's question:\n",
    "\n",
    "--- Start of context ---\n",
    "{retrieved_text}\n",
    "--- End of context ---\n",
    "\n",
    "Now answer the following question accurately and helpfully:\n",
    "{user_input}\n",
    "\"\"\"\n",
    "\n",
    "messages = [\n",
    "    {\n",
    "        \"role\": \"system\", \n",
    "        \"content\": system_prompt\n",
    "    }]\n",
    "\n",
    "response = client.chat.completions.create(\n",
    "                messages=messages,\n",
    "                model=\"llama-3.3-70b-versatile\",  # Groq’s model name\n",
    "                temperature=0.2,\n",
    "                max_tokens=4096\n",
    "            )\n",
    "\n",
    "reply = response.choices[0].message.content\n",
    "print(f\"Chatbot: {reply}\")"
   ]
  },
  {
   "cell_type": "code",
   "execution_count": null,
   "id": "4ca591a2",
   "metadata": {},
   "outputs": [
    {
     "name": "stdout",
     "output_type": "stream",
     "text": [
      "Object `fund` not found.\n"
     ]
    }
   ],
   "source": [
    "Hello my name is Sireesha, what is my value in HDFC Multi Cap Fund Reg fund?"
   ]
  }
 ],
 "metadata": {
  "kernelspec": {
   "display_name": "genai",
   "language": "python",
   "name": "python3"
  },
  "language_info": {
   "codemirror_mode": {
    "name": "ipython",
    "version": 3
   },
   "file_extension": ".py",
   "mimetype": "text/x-python",
   "name": "python",
   "nbconvert_exporter": "python",
   "pygments_lexer": "ipython3",
   "version": "3.13.5"
  }
 },
 "nbformat": 4,
 "nbformat_minor": 5
}
