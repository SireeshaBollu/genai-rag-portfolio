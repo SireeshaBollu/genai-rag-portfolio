{
 "cells": [
  {
   "cell_type": "code",
   "execution_count": 1,
   "id": "2b0f945d",
   "metadata": {},
   "outputs": [],
   "source": [
    "from llama_index.embeddings.huggingface import HuggingFaceEmbedding\n",
    "from llama_index.core import Settings, SimpleDirectoryReader, VectorStoreIndex\n",
    "from llama_index.core.retrievers import VectorIndexRetriever\n",
    "from llama_index.core.query_engine import RetrieverQueryEngine\n",
    "from llama_index.core.postprocessor import SimilarityPostprocessor\n",
    "import os\n",
    "import pandas as pd\n",
    "from groq import Groq\n",
    "from docx import Document\n",
    "from dotenv import load_dotenv\n"
   ]
  },
  {
   "cell_type": "code",
   "execution_count": 8,
   "id": "647b9d0c",
   "metadata": {},
   "outputs": [],
   "source": [
    "# Load .env file\n",
    "load_dotenv()\n",
    "\n",
    "# Initialize Groq client\n",
    "client = Groq(api_key=os.getenv(\"GROQ_API_KEY\"))"
   ]
  },
  {
   "cell_type": "markdown",
   "id": "e042bfd4",
   "metadata": {},
   "source": [
    "### Data preprocessing"
   ]
  },
  {
   "cell_type": "code",
   "execution_count": 9,
   "id": "aed0232c",
   "metadata": {},
   "outputs": [],
   "source": [
    "documents = SimpleDirectoryReader(r\"C:\\Users\\Bollu\\genai_rag\\portifolio_docs\").load_data()"
   ]
  },
  {
   "cell_type": "code",
   "execution_count": 80,
   "id": "e01f4e30",
   "metadata": {},
   "outputs": [],
   "source": [
    "# print(documents[0].text)"
   ]
  },
  {
   "cell_type": "code",
   "execution_count": null,
   "id": "51f69bf6",
   "metadata": {},
   "outputs": [],
   "source": [
    "# text_ = documents[0].text\n",
    "\n",
    "# prompt = f\"\"\"\n",
    "# ### Instructions:\n",
    "# You are a data extraction assistant. Extract all information from this portfolio valuation PDF and return the output in structured text format.\n",
    "\n",
    "# Ensure you include:\n",
    "# •⁠  ⁠Portfolio owner’s name, PAN, contact details, and address\n",
    "# •⁠  ⁠Sub broker and branch details\n",
    "# •⁠  ⁠A list of all mutual fund investments under each category (Equity, Hybrid)\n",
    "#   - For each fund, extract: Scheme name, folio number (in brackets), units, avg. purchase NAV, purchase value, current NAV, current value, dividend, gain, absolute return %, holding days, CAGR %\n",
    "# •⁠  ⁠Equity total, Hybrid total, and Grand total\n",
    "# •⁠  ⁠Any index values like SENSEX/NIFTY shown\n",
    "# •⁠  ⁠Date of the valuation statement\n",
    "# •⁠  ⁠Any disclaimer or important notes\n",
    "\n",
    "# Use keys like: ⁠ owner_name ⁠, ⁠ pan ⁠, ⁠ address ⁠, ⁠ email ⁠, ⁠ contact_number ⁠, ⁠ funds ⁠, ⁠ equity_total ⁠, ⁠ hybrid_total, grand_total, valuation_date, index_data, disclaimer\n",
    "\n",
    "# Be precise and don't miss any fund details or footnotes. Preserve numerical accuracy.\n",
    "\n",
    "# Add the owner's name before each fund entry for clarity.\n",
    "\n",
    "# Write a summary of the portfolio valuation at the end including total investments, current value, and overall performance along with the owner's name.\n",
    "\n",
    "# ### Document:\n",
    "# {text_}\n",
    "# \"\"\"\n",
    "\n"
   ]
  },
  {
   "cell_type": "code",
   "execution_count": 10,
   "id": "43116002",
   "metadata": {},
   "outputs": [],
   "source": [
    "text_ = documents[0].text\n",
    "\n",
    "prompt = f\"\"\"\n",
    "### Instructions:\n",
    "\n",
    "You are a data extraction and summarization assistant helping prepare data for a Retrieval-Augmented Generation (RAG) system.\n",
    "\n",
    "Your goal is to extract and structure information from a mutual fund portfolio statement and convert it into **detailed, uniformly-sized, textual summaries** (approximately 500 tokens each). Ignore any disclaimers or legal boilerplate.\n",
    "\n",
    "Follow these formatting and content rules carefully:\n",
    "\n",
    "---\n",
    "\n",
    "### For each mutual fund entry:\n",
    "- Begin with owner's name.\n",
    "- Title the fund.\n",
    "- Summarize the following in a detailed narrative form (same chunk size of ~500 tokens):\n",
    "  • Fund name and category (e.g., Equity, Liquid)\n",
    "  • Number of units held\n",
    "  • Purchase NAV and value\n",
    "  • Current NAV and value\n",
    "  • Absolute gain and % return\n",
    "  • CAGR and holding period in days\n",
    "  • Any special notes (e.g., underperformance or exceptionally high gain)\n",
    "\n",
    "### After summarizing all funds:\n",
    "Provide a **final portfolio summary** (same chunk size of ~500 tokens), including:\n",
    "  • Star with the owner's name.\n",
    "  • Total number of funds across categories\n",
    "  • Combined original and current investment value\n",
    "  • Total gain and percentage return\n",
    "  • Average CAGR\n",
    "  • Any important insights (e.g., high-performing funds, poor performers)\n",
    "\n",
    "### Additional Instructions:\n",
    "  • All fund summaries and portfolio summary must be approximately the same length (around 500 tokens or ~350–400 words).\n",
    "  • Do not include disclaimers or index values (e.g., Sensex or NIFTY).\n",
    "  • Output in plain text format, suitable for use with a vector database.\n",
    "   •Use all the synnonymns for the headings to ensure the user gets what is required.\n",
    "\n",
    "---\n",
    "\n",
    "### Document:\n",
    "{text_}\n",
    "\"\"\"\n",
    "\n"
   ]
  },
  {
   "cell_type": "code",
   "execution_count": 11,
   "id": "c5716b2a",
   "metadata": {},
   "outputs": [],
   "source": [
    "response = client.chat.completions.create(\n",
    "messages=[\n",
    "    {\n",
    "        \"role\": \"user\",\n",
    "        \"content\": prompt,\n",
    "    }\n",
    "],\n",
    "model=\"llama-3.3-70b-versatile\",\n",
    "temperature=0.2,\n",
    "max_completion_tokens=4096,\n",
    ")\n",
    "\n",
    "result = response.choices[0].message.content"
   ]
  },
  {
   "cell_type": "code",
   "execution_count": 12,
   "id": "7f0d20ce",
   "metadata": {},
   "outputs": [
    {
     "name": "stdout",
     "output_type": "stream",
     "text": [
      "### Mutual Fund Summaries for Durgaprasad Bollu\n",
      "\n",
      "#### HDFC Mid Cap Opportunities Fund (G)\n",
      "Durgaprasad Bollu holds an investment in the HDFC Mid Cap Opportunities Fund (G), which falls under the Equity category. As of the valuation date, the number of units held is 1,000.0000, with an average purchase NAV of 10.00, resulting in a total purchase value of 10,000.00. The current NAV stands at 186.5390, leading to a current value of 1,86,539.00. This investment has yielded an absolute gain of 1,76,539.00 and a percentage return of 1,765.39%. The holding period is approximately 6,535 days, with a Compound Annual Growth Rate (CAGR) of 17.75%. There are no special notes for this investment, indicating a stable performance.\n",
      "\n",
      "#### Mirae Asset ELSS Tax Saver Fund Reg (G)\n",
      "Durgaprasad Bollu is also invested in the Mirae Asset ELSS Tax Saver Fund Reg (G), categorized under Equity. The investment comprises 14,001.2930 units, purchased at an average NAV of 20.00, amounting to a purchase value of 2,80,000.31. The current NAV is 47.5740, resulting in a current value of 6,66,097.51. This investment has generated an absolute gain of 3,86,097.20 and a percentage return of 137.89%. The holding period is approximately 1,713 days, with a CAGR of 17.75%. Similar to the previous investment, there are no special notes, indicating consistent performance.\n",
      "\n",
      "#### Mirae Asset Small Cap Fund Reg (G) [77778566736]\n",
      "Another investment by Durgaprasad Bollu is in the Mirae Asset Small Cap Fund Reg (G) [77778566736], also under the Equity category. This investment consists of 2,699.8650 units, with an average purchase NAV of 10.00, leading to a purchase value of 27,000.00. The current NAV is 10.6820, resulting in a current value of 28,839.96. The absolute gain from this investment is 1,839.96, with a percentage return of 6.81%. The holding period is approximately 105 days, and the CAGR is 23.69%. There are no special notes for this investment, suggesting a standard performance.\n",
      "\n",
      "#### Mirae Asset Small Cap Fund Reg (G) [77778467884]\n",
      "Durgaprasad Bollu has an additional investment in the Mirae Asset Small Cap Fund Reg (G) [77778467884], categorized under Equity. The investment includes 2,199.9050 units, purchased at an average NAV of 9.82, amounting to a purchase value of 21,599.99. The current NAV stands at 10.6820, resulting in a current value of 23,499.39. This investment has yielded an absolute gain of 1,899.39 and a percentage return of 8.79%. The holding period is approximately 45 days, with a CAGR of 71.33%. Similar to the previous investments, there are no special notes, indicating a stable performance.\n",
      "\n",
      "#### Quant Small Cap Fund (G)\n",
      "Durgaprasad Bollu is also invested in the Quant Small Cap Fund (G), under the Equity category. The investment comprises 189.5310 units, with an average purchase NAV of 263.81, leading to a purchase value of 50,000.36. The current NAV is 249.4967, resulting in a current value of 47,287.36. This investment has resulted in an absolute loss of 2,713.00 and a percentage return of -5.43%. The holding period is approximately 266 days, with a CAGR of -7.44%. This investment is noted for its underperformance compared to the others.\n",
      "\n",
      "#### ICICI Pru Multi Asset Fund (G)\n",
      "Lastly, Durgaprasad Bollu has an investment in the ICICI Pru Multi Asset Fund (G), categorized under Hybrid. The investment includes 7.2370 units, purchased at an average NAV of 746.16, amounting to a purchase value of 5,399.96. The current NAV stands at 746.1232, resulting in a current value of 5,399.69. This investment has yielded an absolute gain of -0.27 and a percentage return of -0.00%. The holding period is approximately 0 days, with a CAGR of 0.00%. There are no special notes for this investment, indicating a neutral performance.\n",
      "\n",
      "### Final Portfolio Summary for Durgaprasad Bollu\n",
      "Durgaprasad Bollu's portfolio consists of a total of 6 mutual fund investments across the Equity and Hybrid categories. The total number of units held across all funds is not explicitly stated, but the total purchase value is 3,94,000.63, with a current value of 9,57,662.91. The total absolute gain from the portfolio is 5,63,662.28, with a percentage return of 143.06%. The average CAGR for the portfolio is 17.28%, indicating a strong overall performance. Notably, the Quant Small Cap Fund (G) underperformed, while the other investments showed stable or high gains. The portfolio is diversified across different categories and funds, suggesting a balanced investment strategy. Overall, Durgaprasad Bollu's portfolio demonstrates a significant growth in value, with most investments yielding positive returns.\n"
     ]
    }
   ],
   "source": [
    "print(result)"
   ]
  },
  {
   "cell_type": "markdown",
   "id": "5e112a9d",
   "metadata": {},
   "source": [
    "#### combined code:"
   ]
  },
  {
   "cell_type": "code",
   "execution_count": 13,
   "id": "8baacf2c",
   "metadata": {},
   "outputs": [
    {
     "name": "stdout",
     "output_type": "stream",
     "text": [
      "Skipping durga prasad: Word document already exists.\n",
      "Skipping Hariprasad: Word document already exists.\n",
      "Skipping Lakshmi Devi: Word document already exists.\n",
      "Skipping nagalaxmi: Word document already exists.\n",
      "Skipping neelima (mirae): Word document already exists.\n",
      "Skipping neelima (mirae): Word document already exists.\n",
      "Skipping neelima (mirae): Word document already exists.\n",
      "Skipping neelima (mirae): Word document already exists.\n",
      "Skipping neelima (mirae): Word document already exists.\n",
      "Skipping Sireesha: Word document already exists.\n"
     ]
    }
   ],
   "source": [
    "# Paths\n",
    "input_folder = os.path.expanduser(r\"C:\\Users\\Bollu\\genai_rag\\portifolio_docs\")\n",
    "output_folder = os.path.expanduser(r\"C:\\Users\\Bollu\\genai_rag\\processed_docs\")\n",
    "\n",
    "# Load PDF documents\n",
    "documents = SimpleDirectoryReader(input_folder).load_data()\n",
    "\n",
    "# Process each document\n",
    "for doc in documents:\n",
    "    # Get the document name (assuming metadata exists or infer from filename)\n",
    "    filename = getattr(doc, \"metadata\", {}).get(\"file_name\", None)\n",
    "    if not filename:\n",
    "        # fallback to index-based name if metadata is missing\n",
    "        index = documents.index(doc)\n",
    "        filename = f\"document_{index + 1}.pdf\"\n",
    "\n",
    "    doc_name = os.path.splitext(filename)[0]\n",
    "    word_doc_path = os.path.join(output_folder, f\"{doc_name}.docx\")\n",
    "\n",
    "    # Skip if Word document already exists\n",
    "    if os.path.exists(word_doc_path):\n",
    "        print(f\"Skipping {doc_name}: Word document already exists.\")\n",
    "        continue\n",
    "\n",
    "    print(f\"Processing {doc_name}...\")\n",
    "\n",
    "    text_ = doc.text\n",
    "\n",
    "    prompt = f\"\"\"\n",
    "    ### Instructions:\n",
    "\n",
    "    You are a data extraction and summarization assistant helping prepare data for a Retrieval-Augmented Generation (RAG) system.\n",
    "\n",
    "    Your goal is to extract and structure information from a mutual fund portfolio statement and convert it into **detailed, uniformly-sized, textual summaries** (approximately 500 tokens each). Ignore any disclaimers or legal boilerplate.\n",
    "\n",
    "    Follow these formatting and content rules carefully:\n",
    "\n",
    "    ---\n",
    "\n",
    "    Do not use the word summary. Only use it for the final portfolio ummary.\n",
    "\n",
    "    ### For each mutual fund entry:\n",
    "    - Begin with owner's name.\n",
    "    - Title the fund.\n",
    "    - Summarize the following in a detailed narrative form (same chunk size of ~500 tokens):\n",
    "    • Fund name and category (e.g., Equity, Liquid)\n",
    "    • Number of units held\n",
    "    • Purchase NAV and value\n",
    "    • Current NAV and value\n",
    "    • Absolute gain and % return\n",
    "    • CAGR and holding period in days\n",
    "    • Any special notes (e.g., underperformance or exceptionally high gain)\n",
    "\n",
    "    ### After summarizing all funds:\n",
    "    Provide a **final portfolio summary** (same chunk size of ~500 tokens), including:\n",
    "    • Star with the owner's name.\n",
    "    • Total number of funds across categories\n",
    "    • Combined original and current investment value\n",
    "    • Total gain and percentage return\n",
    "    • Average CAGR\n",
    "    • Any important insights (e.g., high-performing funds, poor performers)\n",
    "\n",
    "    ### Additional Instructions:\n",
    "    • All fund summaries and portfolio summary must be approximately the same length (around 500 tokens or ~350–400 words).\n",
    "    • Do not include disclaimers or index values (e.g., Sensex or NIFTY).\n",
    "    • Output in plain text format, suitable for use with a vector database.\n",
    "    •Use all the synnonymns for the headings to ensure the user gets what is required.\n",
    "\n",
    "    ---\n",
    "\n",
    "    ### Document:\n",
    "    {text_}\"\"\"\n",
    "\n",
    "    try:\n",
    "        # LLM Call\n",
    "        response = client.chat.completions.create(\n",
    "            messages=[{\"role\": \"user\", \"content\": prompt}],\n",
    "            model=\"llama-3.3-70b-versatile\",  # or your model\n",
    "            temperature=0.2,\n",
    "            max_tokens=4096\n",
    "        )\n",
    "        #print(result,\"=================\")\n",
    "        result = response.choices[0].message.content.strip()\n",
    "    except Exception as e:\n",
    "        print(f\"Error processing {doc_name}: {e}\")\n",
    "        continue\n",
    "\n",
    "    # Write result to Word Document\n",
    "    docx_doc = Document()\n",
    "    docx_doc.add_heading(f\"Extracted Portfolio Data - {doc_name}\", level=1)\n",
    "    docx_doc.add_paragraph(result)\n",
    "    docx_doc.save(word_doc_path)\n",
    "\n",
    "    print(f\"Saved: {word_doc_path}\")"
   ]
  },
  {
   "cell_type": "markdown",
   "id": "da3ee9b5",
   "metadata": {},
   "source": [
    "### RAG"
   ]
  },
  {
   "cell_type": "code",
   "execution_count": 14,
   "id": "92c4ebfb",
   "metadata": {},
   "outputs": [
    {
     "name": "stdout",
     "output_type": "stream",
     "text": [
      "LLM is explicitly disabled. Using MockLLM.\n"
     ]
    }
   ],
   "source": [
    "Settings.embed_model = HuggingFaceEmbedding(model_name=\"BAAI/bge-small-en-v1.5\")\n",
    "\n",
    "Settings.llm = None\n",
    "Settings.chunk_size = 500\n",
    "Settings.chunk_overlap = 0"
   ]
  },
  {
   "cell_type": "code",
   "execution_count": 15,
   "id": "fe8107c4",
   "metadata": {},
   "outputs": [],
   "source": [
    "documents = SimpleDirectoryReader(r\"C:\\Users\\Bollu\\genai_rag\\processed_docs\").load_data()"
   ]
  },
  {
   "cell_type": "code",
   "execution_count": 16,
   "id": "b2c3865d",
   "metadata": {},
   "outputs": [],
   "source": [
    "index = VectorStoreIndex.from_documents(documents)"
   ]
  },
  {
   "cell_type": "code",
   "execution_count": 18,
   "id": "cbae392e",
   "metadata": {},
   "outputs": [],
   "source": [
    "# set number of docs to retreive\n",
    "top_k = 1\n",
    "\n",
    "# configure retriever\n",
    "retriever = VectorIndexRetriever(\n",
    "    index=index,\n",
    "    similarity_top_k=top_k,\n",
    ")"
   ]
  },
  {
   "cell_type": "code",
   "execution_count": 19,
   "id": "b6fb22dc",
   "metadata": {},
   "outputs": [],
   "source": [
    "query_engine = RetrieverQueryEngine(\n",
    "    retriever=retriever,\n",
    "    node_postprocessors=[SimilarityPostprocessor(similarity_cutoff=0.5)],\n",
    ")"
   ]
  },
  {
   "cell_type": "code",
   "execution_count": 20,
   "id": "28a36e05",
   "metadata": {},
   "outputs": [
    {
     "name": "stdout",
     "output_type": "stream",
     "text": [
      "BOLLU SIREESHA\n",
      "Final Portfolio Overview\n",
      "The portfolio consists of 13 equity mutual funds, with a total investment value of 9,82,501.73 and a current value of 12,44,803.65. The total gain is 2,62,301.91, and the percentage return is 26.70. The average CAGR is 17.27, and the average holding period is 497 days. The portfolio has performed well, with several funds showing significant gains in value over their respective holding periods. The top-performing funds are the Axis Small Cap Fund Reg (G), Kotak Emerging Equity (G), and Parag Parikh Flexi Cap Fund Reg (G), which have returns of 41.36, 47.72, and 42.46, respectively. The underperforming funds are the Edelweiss Business Cycle Fund Reg (G), Nippon India Small Cap Fund (G), and Quant Small Cap Fund (G), which have returns of 0.25, 2.62, and -1.36, respectively. Overall, the portfolio has shown a significant gain in value over the holding period, with an average CAGR of 17.27. The portfolio's performance is a positive indicator of its growth potential, and it is essential to continue monitoring the funds' performance to ensure the portfolio remains aligned with the investor's goals.\n"
     ]
    }
   ],
   "source": [
    "post = \"Final Portfolio Summary of Bollu Sireesha\"\n",
    "response = query_engine.query(post)\n",
    "print(response.source_nodes[0].text)"
   ]
  },
  {
   "cell_type": "markdown",
   "id": "2520d51b",
   "metadata": {},
   "source": [
    "#### Function"
   ]
  },
  {
   "cell_type": "code",
   "execution_count": 21,
   "id": "2d768bf7",
   "metadata": {},
   "outputs": [],
   "source": [
    "def get_retrieved_context(user_query):\n",
    "    response = query_engine.query(user_query)\n",
    "    return response.source_nodes[0].text"
   ]
  },
  {
   "cell_type": "code",
   "execution_count": 22,
   "id": "9066ab51",
   "metadata": {},
   "outputs": [
    {
     "name": "stdout",
     "output_type": "stream",
     "text": [
      "User: Summarize the overall portfolio of Hari Prasad Bollu \n",
      "\n",
      "Retrieved Context: Extracted Portfolio Data - Hariprasad\n",
      "\n",
      "Bollu Hari Prasad \n",
      "DSP Large & Mid Cap Fund Reg (G) Overview\n",
      "Bollu Hari Prasad holds an investment in the DSP Large & Mid Cap Fund Reg (G), which falls under the Equity category. As of the latest valuation, the total number of units held in this fund is 4.9050, with an average purchase NAV of 611.63. The total purchase value of this investment is 3,000.04. Currently, the NAV stands at 612.1250, resulting in a current value of 3,002.47. The dividend gain from this investment is 0.00, and the absolute return is 2.44, which translates to a percentage return of 0.08. The holding period for this investment is 17 days, with a CAGR of 1.80. It is essential to note that this fund has shown a relatively stable performance, but the short holding period may not accurately reflect its long-term potential. \n",
      "\n",
      "Bollu Hari Prasad \n",
      "HSBC Value Fund (G) Overview\n",
      "Bollu Hari Prasad also has an investment in the HSBC Value Fund (G), another Equity category fund. The total number of units held in this fund is 9.3790, with an average purchase NAV of 106.63. The total purchase value of this investment is 1,000.05. Currently, the NAV stands at 109.1654, resulting in a current value of 1,023.86. The dividend gain from this investment is 0.00, and the absolute return is 23.81, which translates to a percentage return of 2.38. The holding period for this investment is 33 days, with a CAGR of 26.34. This fund has demonstrated a significant increase in value over the holding period, indicating a strong performance. However, it is crucial to consider the overall market conditions and the fund's potential for long-term growth.\n",
      "\n",
      "Bollu Hari Prasad \n",
      "Final Portfolio Overview\n",
      "Bollu Hari Prasad's investment portfolio consists of a total of 2 funds across the Equity category. \n",
      "\n",
      "Chatbot: Hari Prasad Bollu's investment portfolio consists of 2 funds in the Equity category. \n",
      "\n",
      "1. DSP Large & Mid Cap Fund Reg (G): With a total investment value of 3,000.04, the current value stands at 3,002.47, showing a percentage return of 0.08 over a 17-day holding period.\n",
      "\n",
      "2. HSBC Value Fund (G): With a total investment value of 1,000.05, the current value stands at 1,023.86, showing a percentage return of 2.38 over a 33-day holding period.\n",
      "\n",
      "Overall, his portfolio has shown relatively stable to strong performance, but the short holding periods may not accurately reflect the long-term potential of these investments.\n"
     ]
    }
   ],
   "source": [
    "user_input = input(\"You: \")\n",
    "# if user_input.lower() in ['exit', 'quit']:\n",
    "#     print(\"Chatbot: Goodbye!\")\n",
    "\n",
    "print(\"User:\", user_input, \"\\n\")\n",
    "\n",
    "retrieved_text = get_retrieved_context(user_input)\n",
    "print(\"Retrieved Context:\", retrieved_text, \"\\n\")\n",
    "\n",
    "system_prompt = f\"\"\"\n",
    "You are a helpful assistant. Use the following context to answer the user's question:\n",
    "\n",
    "--- Start of context ---\n",
    "{retrieved_text}\n",
    "--- End of context ---\n",
    "\n",
    "Now answer the following question accurately and helpfully:\n",
    "{user_input}\n",
    "\"\"\"\n",
    "\n",
    "messages = [\n",
    "    {\n",
    "        \"role\": \"system\", \n",
    "        \"content\": system_prompt\n",
    "    }]\n",
    "\n",
    "response = client.chat.completions.create(\n",
    "                messages=messages,\n",
    "                model=\"llama-3.3-70b-versatile\",  # Groq’s model name\n",
    "                temperature=0.2,\n",
    "                max_tokens=4096\n",
    "            )\n",
    "\n",
    "reply = response.choices[0].message.content\n",
    "print(f\"Chatbot: {reply}\")"
   ]
  },
  {
   "cell_type": "code",
   "execution_count": null,
   "id": "4ca591a2",
   "metadata": {},
   "outputs": [
    {
     "name": "stdout",
     "output_type": "stream",
     "text": [
      "Object `fund` not found.\n"
     ]
    }
   ],
   "source": [
    "Hello my name is Sireesha, what is my value in HDFC Multi Cap Fund Reg fund?"
   ]
  }
 ],
 "metadata": {
  "kernelspec": {
   "display_name": "genai",
   "language": "python",
   "name": "python3"
  },
  "language_info": {
   "codemirror_mode": {
    "name": "ipython",
    "version": 3
   },
   "file_extension": ".py",
   "mimetype": "text/x-python",
   "name": "python",
   "nbconvert_exporter": "python",
   "pygments_lexer": "ipython3",
   "version": "3.13.5"
  }
 },
 "nbformat": 4,
 "nbformat_minor": 5
}
